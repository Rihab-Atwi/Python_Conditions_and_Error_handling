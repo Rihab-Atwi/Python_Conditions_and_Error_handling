{
 "cells": [
  {
   "cell_type": "code",
   "execution_count": 1,
   "metadata": {},
   "outputs": [],
   "source": [
    "import database_handler\n",
    "from pandas_function_handler import pandas_function\n",
    "from lookups import InputTypes\n",
    "from database_handler import get_tables_in_schema"
   ]
  },
  {
   "cell_type": "code",
   "execution_count": 2,
   "metadata": {},
   "outputs": [],
   "source": [
    "db_session = database_handler.create_connection()"
   ]
  },
  {
   "cell_type": "code",
   "execution_count": 3,
   "metadata": {},
   "outputs": [
    {
     "name": "stderr",
     "output_type": "stream",
     "text": [
      "c:\\Users\\User\\Desktop\\Zahi's assignment\\database_handler.py:47: UserWarning: pandas only supports SQLAlchemy connectable (engine/connection) or database string URI or sqlite3 DBAPI2 connection. Other DBAPI2 objects are not tested. Please consider using SQLAlchemy.\n",
      "  return_dataframe = pd.read_sql_query(con=db_session, sql=file)\n"
     ]
    }
   ],
   "source": [
    "if db_session:\n",
    "    query_df = database_handler.return_data_as_df(db_session= db_session, file= \"SELECT * FROM public.rental\", input_type= InputTypes.SQL)"
   ]
  },
  {
   "cell_type": "code",
   "execution_count": 4,
   "metadata": {},
   "outputs": [
    {
     "data": {
      "text/html": [
       "<div>\n",
       "<style scoped>\n",
       "    .dataframe tbody tr th:only-of-type {\n",
       "        vertical-align: middle;\n",
       "    }\n",
       "\n",
       "    .dataframe tbody tr th {\n",
       "        vertical-align: top;\n",
       "    }\n",
       "\n",
       "    .dataframe thead th {\n",
       "        text-align: right;\n",
       "    }\n",
       "</style>\n",
       "<table border=\"1\" class=\"dataframe\">\n",
       "  <thead>\n",
       "    <tr style=\"text-align: right;\">\n",
       "      <th></th>\n",
       "      <th>rental_id</th>\n",
       "      <th>rental_date</th>\n",
       "      <th>inventory_id</th>\n",
       "      <th>customer_id</th>\n",
       "      <th>return_date</th>\n",
       "      <th>staff_id</th>\n",
       "      <th>last_update</th>\n",
       "    </tr>\n",
       "  </thead>\n",
       "  <tbody>\n",
       "    <tr>\n",
       "      <th>0</th>\n",
       "      <td>2</td>\n",
       "      <td>2005-05-24 22:54:33</td>\n",
       "      <td>1525</td>\n",
       "      <td>459</td>\n",
       "      <td>2005-05-28 19:40:33</td>\n",
       "      <td>1</td>\n",
       "      <td>2006-02-16 02:30:53</td>\n",
       "    </tr>\n",
       "    <tr>\n",
       "      <th>1</th>\n",
       "      <td>3</td>\n",
       "      <td>2005-05-24 23:03:39</td>\n",
       "      <td>1711</td>\n",
       "      <td>408</td>\n",
       "      <td>2005-06-01 22:12:39</td>\n",
       "      <td>1</td>\n",
       "      <td>2006-02-16 02:30:53</td>\n",
       "    </tr>\n",
       "    <tr>\n",
       "      <th>2</th>\n",
       "      <td>4</td>\n",
       "      <td>2005-05-24 23:04:41</td>\n",
       "      <td>2452</td>\n",
       "      <td>333</td>\n",
       "      <td>2005-06-03 01:43:41</td>\n",
       "      <td>2</td>\n",
       "      <td>2006-02-16 02:30:53</td>\n",
       "    </tr>\n",
       "    <tr>\n",
       "      <th>3</th>\n",
       "      <td>5</td>\n",
       "      <td>2005-05-24 23:05:21</td>\n",
       "      <td>2079</td>\n",
       "      <td>222</td>\n",
       "      <td>2005-06-02 04:33:21</td>\n",
       "      <td>1</td>\n",
       "      <td>2006-02-16 02:30:53</td>\n",
       "    </tr>\n",
       "    <tr>\n",
       "      <th>4</th>\n",
       "      <td>6</td>\n",
       "      <td>2005-05-24 23:08:07</td>\n",
       "      <td>2792</td>\n",
       "      <td>549</td>\n",
       "      <td>2005-05-27 01:32:07</td>\n",
       "      <td>1</td>\n",
       "      <td>2006-02-16 02:30:53</td>\n",
       "    </tr>\n",
       "  </tbody>\n",
       "</table>\n",
       "</div>"
      ],
      "text/plain": [
       "   rental_id         rental_date  inventory_id  customer_id  \\\n",
       "0          2 2005-05-24 22:54:33          1525          459   \n",
       "1          3 2005-05-24 23:03:39          1711          408   \n",
       "2          4 2005-05-24 23:04:41          2452          333   \n",
       "3          5 2005-05-24 23:05:21          2079          222   \n",
       "4          6 2005-05-24 23:08:07          2792          549   \n",
       "\n",
       "          return_date  staff_id         last_update  \n",
       "0 2005-05-28 19:40:33         1 2006-02-16 02:30:53  \n",
       "1 2005-06-01 22:12:39         1 2006-02-16 02:30:53  \n",
       "2 2005-06-03 01:43:41         2 2006-02-16 02:30:53  \n",
       "3 2005-06-02 04:33:21         1 2006-02-16 02:30:53  \n",
       "4 2005-05-27 01:32:07         1 2006-02-16 02:30:53  "
      ]
     },
     "execution_count": 4,
     "metadata": {},
     "output_type": "execute_result"
    }
   ],
   "source": [
    "query_df.head()"
   ]
  },
  {
   "cell_type": "code",
   "execution_count": 5,
   "metadata": {},
   "outputs": [],
   "source": [
    "condition = query_df['rental_id'] > 70\n",
    "df = pandas_function(query_df, \"filter_rows\", condition=condition)"
   ]
  },
  {
   "cell_type": "code",
   "execution_count": 6,
   "metadata": {},
   "outputs": [
    {
     "data": {
      "text/html": [
       "<div>\n",
       "<style scoped>\n",
       "    .dataframe tbody tr th:only-of-type {\n",
       "        vertical-align: middle;\n",
       "    }\n",
       "\n",
       "    .dataframe tbody tr th {\n",
       "        vertical-align: top;\n",
       "    }\n",
       "\n",
       "    .dataframe thead th {\n",
       "        text-align: right;\n",
       "    }\n",
       "</style>\n",
       "<table border=\"1\" class=\"dataframe\">\n",
       "  <thead>\n",
       "    <tr style=\"text-align: right;\">\n",
       "      <th></th>\n",
       "      <th>rental_id</th>\n",
       "      <th>rental_date</th>\n",
       "      <th>inventory_id</th>\n",
       "      <th>customer_id</th>\n",
       "      <th>return_date</th>\n",
       "      <th>staff_id</th>\n",
       "      <th>last_update</th>\n",
       "    </tr>\n",
       "  </thead>\n",
       "  <tbody>\n",
       "    <tr>\n",
       "      <th>69</th>\n",
       "      <td>71</td>\n",
       "      <td>2005-05-25 10:26:39</td>\n",
       "      <td>2408</td>\n",
       "      <td>100</td>\n",
       "      <td>2005-05-28 04:59:39</td>\n",
       "      <td>1</td>\n",
       "      <td>2006-02-16 02:30:53</td>\n",
       "    </tr>\n",
       "    <tr>\n",
       "      <th>70</th>\n",
       "      <td>72</td>\n",
       "      <td>2005-05-25 10:52:13</td>\n",
       "      <td>2260</td>\n",
       "      <td>48</td>\n",
       "      <td>2005-05-28 05:52:13</td>\n",
       "      <td>2</td>\n",
       "      <td>2006-02-16 02:30:53</td>\n",
       "    </tr>\n",
       "    <tr>\n",
       "      <th>71</th>\n",
       "      <td>73</td>\n",
       "      <td>2005-05-25 11:00:07</td>\n",
       "      <td>517</td>\n",
       "      <td>391</td>\n",
       "      <td>2005-06-01 13:56:07</td>\n",
       "      <td>2</td>\n",
       "      <td>2006-02-16 02:30:53</td>\n",
       "    </tr>\n",
       "    <tr>\n",
       "      <th>72</th>\n",
       "      <td>74</td>\n",
       "      <td>2005-05-25 11:09:48</td>\n",
       "      <td>1744</td>\n",
       "      <td>265</td>\n",
       "      <td>2005-05-26 12:23:48</td>\n",
       "      <td>2</td>\n",
       "      <td>2006-02-16 02:30:53</td>\n",
       "    </tr>\n",
       "    <tr>\n",
       "      <th>73</th>\n",
       "      <td>75</td>\n",
       "      <td>2005-05-25 11:13:34</td>\n",
       "      <td>3393</td>\n",
       "      <td>510</td>\n",
       "      <td>2005-06-03 12:58:34</td>\n",
       "      <td>1</td>\n",
       "      <td>2006-02-16 02:30:53</td>\n",
       "    </tr>\n",
       "  </tbody>\n",
       "</table>\n",
       "</div>"
      ],
      "text/plain": [
       "    rental_id         rental_date  inventory_id  customer_id  \\\n",
       "69         71 2005-05-25 10:26:39          2408          100   \n",
       "70         72 2005-05-25 10:52:13          2260           48   \n",
       "71         73 2005-05-25 11:00:07           517          391   \n",
       "72         74 2005-05-25 11:09:48          1744          265   \n",
       "73         75 2005-05-25 11:13:34          3393          510   \n",
       "\n",
       "           return_date  staff_id         last_update  \n",
       "69 2005-05-28 04:59:39         1 2006-02-16 02:30:53  \n",
       "70 2005-05-28 05:52:13         2 2006-02-16 02:30:53  \n",
       "71 2005-06-01 13:56:07         2 2006-02-16 02:30:53  \n",
       "72 2005-05-26 12:23:48         2 2006-02-16 02:30:53  \n",
       "73 2005-06-03 12:58:34         1 2006-02-16 02:30:53  "
      ]
     },
     "execution_count": 6,
     "metadata": {},
     "output_type": "execute_result"
    }
   ],
   "source": [
    "df.head()"
   ]
  },
  {
   "cell_type": "code",
   "execution_count": 7,
   "metadata": {},
   "outputs": [
    {
     "data": {
      "text/plain": [
       "(16044, 7)"
      ]
     },
     "execution_count": 7,
     "metadata": {},
     "output_type": "execute_result"
    }
   ],
   "source": [
    "pandas_function(query_df, \"get_shape\", condition = None)"
   ]
  },
  {
   "cell_type": "code",
   "execution_count": 9,
   "metadata": {},
   "outputs": [
    {
     "name": "stdout",
     "output_type": "stream",
     "text": [
      "['actor', 'store', 'top_10_actors', 'address', 'category', 'city', 'country', 'customer', 'film_actor', 'film_category', 'inventory', 'language', 'rental', 'staff', 'payment', 'film']\n"
     ]
    }
   ],
   "source": [
    "table_names = get_tables_in_schema(db_session = db_session, schema_name=\"public\")\n",
    "print(table_names)\n"
   ]
  }
 ],
 "metadata": {
  "kernelspec": {
   "display_name": "se_etl_env",
   "language": "python",
   "name": "python3"
  },
  "language_info": {
   "codemirror_mode": {
    "name": "ipython",
    "version": 3
   },
   "file_extension": ".py",
   "mimetype": "text/x-python",
   "name": "python",
   "nbconvert_exporter": "python",
   "pygments_lexer": "ipython3",
   "version": "3.10.9"
  },
  "orig_nbformat": 4
 },
 "nbformat": 4,
 "nbformat_minor": 2
}
